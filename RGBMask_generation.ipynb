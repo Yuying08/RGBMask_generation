{
 "cells": [
  {
   "cell_type": "code",
   "execution_count": null,
   "id": "a413a86a-79ce-4a19-bc1b-3dd8fed7b234",
   "metadata": {},
   "outputs": [],
   "source": [
    "!pip install pyproj\n",
    "import pyproj\n",
    "from osgeo import gdal, ogr\n",
    "import numpy as np\n",
    "\n",
    "\n",
    "# Get the PROJ data directory\n",
    "proj_data_dir = pyproj.datadir.get_data_dir()\n",
    "print(\"PROJ data directory:\", proj_data_dir)"
   ]
  },
  {
   "cell_type": "code",
   "execution_count": null,
   "id": "221f15e5-30d0-4877-9bef-490ab9dea862",
   "metadata": {},
   "outputs": [],
   "source": [
    "print(\"PROJ_LIB is set to:\", os.environ['PROJ_LIB'])"
   ]
  },
  {
   "cell_type": "code",
   "execution_count": null,
   "id": "20e9801b-e81c-45c9-80b0-7adca838feca",
   "metadata": {},
   "outputs": [],
   "source": [
    "import os\n",
    "os.environ['PROJ_LIB'] = '/opt/conda/lib/python3.10/site-packages/pyproj/proj_dir/share/proj'\n",
    "os.environ['GDAL_DATA'] = '/opt/conda/lib/python3.10/site-packages/pyproj/proj_dir/share'\n",
    "base_dir = os.getcwd()\n",
    "print(base_dir)"
   ]
  },
  {
   "cell_type": "code",
   "execution_count": null,
   "id": "e1ce5af0-1fe9-4fc9-b2e0-6e28281d335a",
   "metadata": {},
   "outputs": [],
   "source": [
    "from osgeo import gdal, ogr\n",
    "import numpy as np\n",
    "#!unzip /home/jovyan/dataset_ex_2.zip\n",
    "\n",
    "# Define pixel values for each feature\n",
    "pixel_values = {\n",
    "    'road_bound': [0, 0, 200],\n",
    "    'buildings': [255, 0, 0],\n",
    "    'road_markings': {\n",
    "        'broken_line': [0, 20, 10],\n",
    "        'cycle_lane': [0, 40, 0],\n",
    "        'dashed_line': [0, 45, 70],\n",
    "        'pedestrian_crossing': [0, 100, 0],\n",
    "        'solid_line': [0, 45, 0],\n",
    "        'stop_line': [0, 85, 0]\n",
    "    }\n",
    "}\n"
   ]
  },
  {
   "cell_type": "code",
   "execution_count": null,
   "id": "a51b0b6f-5e2e-417d-844b-f567a1e7e24a",
   "metadata": {},
   "outputs": [],
   "source": [
    "# Load vector data\n",
    "road_bound_ds = ogr.Open('/home/jovyan/dataset_ex_2/grid-111/dop20rgb_386_5826_2022_bounds_grid-111.shp')\n",
    "buildings_ds = ogr.Open('/home/jovyan/dataset_ex_2/grid-111/dop20rgb_386_5826_2022_buildings_grid-111.shp')\n",
    "road_markings_ds = ogr.Open('/home/jovyan/dataset_ex_2/grid-111/dop20rgb_386_5826_2022_markings_grid-111.shp')"
   ]
  },
  {
   "cell_type": "code",
   "execution_count": null,
   "id": "1be09f4e-669f-4f1e-8277-3268a728c377",
   "metadata": {},
   "outputs": [],
   "source": [
    "gdal.SetConfigOption(\"GTIFF_SRS_SOURCE\", \"EPSG\")\n",
    "gdal.SetConfigOption('PROJ_LIB', '/opt/conda/lib/python3.10/site-packages/pyproj/proj_dir/share/proj')\n",
    "raster_path = '/home/jovyan/dataset_ex_2/dop20rgb_386_5826_2022_grid_111.tif'\n",
    "raster_ds = gdal.Open(raster_path)\n",
    "geo_transform = raster_ds.GetGeoTransform()\n",
    "projection = raster_ds.GetProjection()\n",
    "cols = raster_ds.RasterXSize\n",
    "rows = raster_ds.RasterYSize\n",
    "\n",
    "# Create an empty RGB raster\n",
    "driver = gdal.GetDriverByName('GTiff')\n",
    "output_path = '/home/jovyan/dataset_ex_2/output_rgb_mask.tif'\n",
    "output_ds = driver.Create(output_path, cols, rows, 3, gdal.GDT_Byte)\n",
    "output_ds.SetGeoTransform(geo_transform)\n",
    "output_ds.SetProjection(projection)\n",
    "\n",
    "# Initialize the final RGB mask array\n",
    "final_rgb_array = np.zeros((3, rows, cols), dtype=np.uint8)\n",
    "\n",
    "# Function to rasterize a vector layer into the RGB mask\n",
    "def rasterize_vector_layer(vector_ds, pixel_value):\n",
    "    mem_drv = gdal.GetDriverByName('MEM')\n",
    "    mem_ds = mem_drv.Create('', cols, rows, 1, gdal.GDT_Byte)\n",
    "    mem_ds.SetGeoTransform(geo_transform)\n",
    "    mem_ds.SetProjection(projection)\n",
    "    \n",
    "    gdal.RasterizeLayer(mem_ds, [1], vector_ds.GetLayer(), burn_values=[1])\n",
    "    \n",
    "    array = mem_ds.ReadAsArray()\n",
    "    mask = array == 1\n",
    "    rgb_array = np.zeros((3, rows, cols), dtype=np.uint8)\n",
    "    rgb_array[0][mask] = pixel_value[0]\n",
    "    rgb_array[1][mask] = pixel_value[1]\n",
    "    rgb_array[2][mask] = pixel_value[2]\n",
    "    \n",
    "    return rgb_array\n",
    "\n",
    "# Rasterize road bounds\n",
    "road_bound_array = rasterize_vector_layer(road_bound_ds, pixel_values['road_bound'])\n",
    "final_rgb_array += road_bound_array\n",
    "\n",
    "# Rasterize buildings\n",
    "buildings_array = rasterize_vector_layer(buildings_ds, pixel_values['buildings'])\n",
    "final_rgb_array += buildings_array\n",
    "\n",
    "# Rasterize road markings\n",
    "for marking_type, pixel_value in pixel_values['road_markings'].items():\n",
    "    marking_array = rasterize_vector_layer(road_markings_ds, pixel_value)\n",
    "    final_rgb_array += marking_array\n",
    "\n",
    "# Write the combined RGB array to the output raster bands\n",
    "for band_idx in range(3):\n",
    "    band = output_ds.GetRasterBand(band_idx + 1)\n",
    "    band.WriteArray(final_rgb_array[band_idx])\n",
    "\n",
    "# Close the output raster dataset\n",
    "output_ds = None\n",
    "\n",
    "print(f\"RGB mask created and saved to {output_path}\")"
   ]
  }
 ],
 "metadata": {
  "kernelspec": {
   "display_name": "Python 3 (ipykernel)",
   "language": "python",
   "name": "python3"
  },
  "language_info": {
   "codemirror_mode": {
    "name": "ipython",
    "version": 3
   },
   "file_extension": ".py",
   "mimetype": "text/x-python",
   "name": "python",
   "nbconvert_exporter": "python",
   "pygments_lexer": "ipython3",
   "version": "3.10.10"
  }
 },
 "nbformat": 4,
 "nbformat_minor": 5
}
